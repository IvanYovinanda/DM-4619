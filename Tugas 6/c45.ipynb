{
  "nbformat": 4,
  "nbformat_minor": 0,
  "metadata": {
    "colab": {
      "name": "c45.ipynb",
      "provenance": [],
      "collapsed_sections": []
    },
    "kernelspec": {
      "name": "python3",
      "display_name": "Python 3"
    },
    "language_info": {
      "name": "python"
    }
  },
  "cells": [
    {
      "cell_type": "code",
      "execution_count": 1,
      "metadata": {
        "id": "Fiw8uZZBb4li"
      },
      "outputs": [],
      "source": [
        "from sklearn.tree import DecisionTreeClassifier\n",
        "from sklearn import datasets\n",
        "import matplotlib.pyplot as plt"
      ]
    },
    {
      "cell_type": "code",
      "source": [
        "iris = datasets.load_iris()\n",
        "features = iris['data']\n",
        "target = iris['target']"
      ],
      "metadata": {
        "id": "IQY3_L-ucDBr"
      },
      "execution_count": 2,
      "outputs": []
    },
    {
      "cell_type": "code",
      "source": [
        "decisiontree = DecisionTreeClassifier(random_state=0, \n",
        "max_depth=None, min_samples_split=2, min_samples_leaf=1, \n",
        "min_weight_fraction_leaf=0, max_leaf_nodes=None, min_impurity_decrease=0)"
      ],
      "metadata": {
        "id": "Q5VdWZXNcH0s"
      },
      "execution_count": 3,
      "outputs": []
    },
    {
      "cell_type": "code",
      "source": [
        "model = decisiontree.fit(features, target)"
      ],
      "metadata": {
        "id": "9L0B9COzcL8E"
      },
      "execution_count": 4,
      "outputs": []
    },
    {
      "cell_type": "code",
      "source": [
        "observation = [[5, 4, 3, 2]]\n",
        "model.predict(observation)\n",
        "model.predict_proba(observation)"
      ],
      "metadata": {
        "colab": {
          "base_uri": "https://localhost:8080/"
        },
        "id": "Y8lHcmNCcQ0V",
        "outputId": "833460f4-8363-45a8-f1cb-0f37f04885ee"
      },
      "execution_count": 5,
      "outputs": [
        {
          "output_type": "execute_result",
          "data": {
            "text/plain": [
              "array([[0., 1., 0.]])"
            ]
          },
          "metadata": {},
          "execution_count": 5
        }
      ]
    },
    {
      "cell_type": "code",
      "source": [
        "from IPython.core.display import Image\n",
        "import pydotplus\n",
        "from sklearn import tree\n",
        "dot_data = tree.export_graphviz(decisiontree, out_file=None, \n",
        "    feature_names=iris['feature_names'], class_names=iris['target_names'])\n",
        "from IPython.display import Image\n",
        "graph = pydotplus.graph_from_dot_data(dot_data)\n",
        "Image(graph.create_png())\n",
        "graph.write_png('iris.png')"
      ],
      "metadata": {
        "colab": {
          "base_uri": "https://localhost:8080/"
        },
        "id": "Sp_otT3fcTX9",
        "outputId": "76cd613b-cf08-4750-8760-7e40be38cc01"
      },
      "execution_count": 6,
      "outputs": [
        {
          "output_type": "execute_result",
          "data": {
            "text/plain": [
              "True"
            ]
          },
          "metadata": {},
          "execution_count": 6
        }
      ]
    },
    {
      "cell_type": "code",
      "source": [
        "import numpy as np\n",
        "import pandas as pd\n",
        "from sklearn import tree"
      ],
      "metadata": {
        "id": "aNX4jFKMdHtz"
      },
      "execution_count": 7,
      "outputs": []
    },
    {
      "cell_type": "code",
      "source": [
        "Dataset = pd.read_csv('Iris.csv', delimiter=',', header=0)"
      ],
      "metadata": {
        "id": "zJpc4xuSdQ3o"
      },
      "execution_count": 9,
      "outputs": []
    },
    {
      "cell_type": "code",
      "source": [
        "Dataset[\"Species\"] = pd.factorize(Dataset.Species)[0]"
      ],
      "metadata": {
        "id": "BqLzTF7KfgCG"
      },
      "execution_count": 11,
      "outputs": []
    },
    {
      "cell_type": "code",
      "source": [
        "Dataset = Dataset.drop(labels=\"Id\", axis=1)"
      ],
      "metadata": {
        "id": "G7zVUYfafo_c"
      },
      "execution_count": 13,
      "outputs": []
    },
    {
      "cell_type": "code",
      "source": [
        "print(Dataset)"
      ],
      "metadata": {
        "colab": {
          "base_uri": "https://localhost:8080/"
        },
        "id": "P00RkHbRf1gY",
        "outputId": "745adbac-3fe1-470a-8064-cbd0b28d403b"
      },
      "execution_count": 14,
      "outputs": [
        {
          "output_type": "stream",
          "name": "stdout",
          "text": [
            "     SepalLengthCm  SepalWidthCm  PetalLengthCm  PetalWidthCm  Species\n",
            "0              5.1           3.5            1.4           0.2        0\n",
            "1              4.9           3.0            1.4           0.2        0\n",
            "2              4.7           3.2            1.3           0.2        0\n",
            "3              4.6           3.1            1.5           0.2        0\n",
            "4              5.0           3.6            1.4           0.2        0\n",
            "..             ...           ...            ...           ...      ...\n",
            "145            6.7           3.0            5.2           2.3        2\n",
            "146            6.3           2.5            5.0           1.9        2\n",
            "147            6.5           3.0            5.2           2.0        2\n",
            "148            6.2           3.4            5.4           2.3        2\n",
            "149            5.9           3.0            5.1           1.8        2\n",
            "\n",
            "[150 rows x 5 columns]\n"
          ]
        }
      ]
    },
    {
      "cell_type": "code",
      "source": [
        "Dataset = Dataset.to_numpy()"
      ],
      "metadata": {
        "id": "CMJ9jBkhgDt1"
      },
      "execution_count": 15,
      "outputs": []
    },
    {
      "cell_type": "code",
      "source": [
        "dataTraining = np.concatenate((Dataset[0:40,:],\n",
        "                               Dataset[50:90,:]), axis=0)\n",
        "dataTesting = np.concatenate((Dataset[40:50,:],\n",
        "                               Dataset[90:100,:]), axis=0)\n",
        "#Membagi Dataset -> 80 baris data untuk Training dan 20 bari data untuk Testing"
      ],
      "metadata": {
        "id": "qJizKFzegPFm"
      },
      "execution_count": 16,
      "outputs": []
    },
    {
      "cell_type": "code",
      "source": [
        "inputTraining = dataTraining[:,0:4]\n",
        "inputTesting = dataTesting[:,0:4]\n",
        "labelTraining = dataTraining[:, 4]\n",
        "labelTesting = dataTesting[:, 4]\n",
        "#Memecah Dataset ke Input dan Label"
      ],
      "metadata": {
        "id": "h_43mBWigpy8"
      },
      "execution_count": 20,
      "outputs": []
    },
    {
      "cell_type": "code",
      "source": [
        "model = tree.DecisionTreeClassifier()\n",
        "#Mendefinisikan Decision Tree Classifier"
      ],
      "metadata": {
        "id": "DURgHl3ygxlr"
      },
      "execution_count": 21,
      "outputs": []
    },
    {
      "cell_type": "code",
      "source": [
        "model = model.fit(inputTraining, labelTraining)\n",
        "#Mentraining Model"
      ],
      "metadata": {
        "id": "bceuDIM2g5kr"
      },
      "execution_count": 22,
      "outputs": []
    },
    {
      "cell_type": "code",
      "source": [
        "hasilPrediksi = model.predict(inputTesting)\n",
        "print(\" label sebenarnya \", labelTesting)\n",
        "print(\" hasil prediksi \", hasilPrediksi)\n",
        "#Memprediksi inpt data testing"
      ],
      "metadata": {
        "colab": {
          "base_uri": "https://localhost:8080/"
        },
        "id": "2bTc1Sgfh79j",
        "outputId": "5599f706-c2df-4670-9f60-5ceda41a9558"
      },
      "execution_count": 25,
      "outputs": [
        {
          "output_type": "stream",
          "name": "stdout",
          "text": [
            " label sebenarnya  [0. 0. 0. 0. 0. 0. 0. 0. 0. 0. 1. 1. 1. 1. 1. 1. 1. 1. 1. 1.]\n",
            " hasil prediksi  [0. 0. 0. 0. 0. 0. 0. 0. 0. 0. 1. 1. 1. 1. 1. 1. 1. 1. 1. 1.]\n"
          ]
        }
      ]
    },
    {
      "cell_type": "code",
      "source": [
        "prediksiBenar = (hasilPrediksi == labelTesting).sum()\n",
        "prediksiSalah = (hasilPrediksi != labelTesting).sum()\n",
        "print(\"Prediksi Benar\", prediksiBenar, \"data\")\n",
        "print(\"Prediksi Salah\", prediksiSalah, \"data\")\n",
        "print(\"akurasi:\", prediksiBenar/(prediksiBenar+prediksiSalah)* 100, \"%\")\n",
        "#Menghitung akurasi"
      ],
      "metadata": {
        "colab": {
          "base_uri": "https://localhost:8080/"
        },
        "id": "_RYGfhcMxCED",
        "outputId": "6d40feba-2f14-4482-dceb-0044769f8382"
      },
      "execution_count": 26,
      "outputs": [
        {
          "output_type": "stream",
          "name": "stdout",
          "text": [
            "Prediksi Benar 20 data\n",
            "Prediksi Salah 0 data\n",
            "akurasi: 100.0 %\n"
          ]
        }
      ]
    }
  ]
}