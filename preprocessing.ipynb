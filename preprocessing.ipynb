{
 "cells": [
  {
   "cell_type": "code",
   "execution_count": 1,
   "id": "059d8935",
   "metadata": {},
   "outputs": [],
   "source": [
    "import numpy as np\n",
    "import matplotlib.pyplot as plt\n",
    "import pandas as pd"
   ]
  },
  {
   "cell_type": "code",
   "execution_count": 2,
   "id": "dde8f5c1",
   "metadata": {
    "scrolled": true
   },
   "outputs": [],
   "source": [
    "dataset = pd.read_csv('valorant-stats.csv')\n",
    "x = dataset.iloc[:, :-1].values\n",
    "y = dataset.iloc[:, -1].values"
   ]
  },
  {
   "cell_type": "code",
   "execution_count": 3,
   "id": "96891650",
   "metadata": {},
   "outputs": [
    {
     "name": "stdout",
     "output_type": "stream",
     "text": [
      "[['Classic' 'Sidearm' 0 6.75 'Low' 12 78 26 22 78 26 22 66 22]\n",
      " ['Shorty' 'Sidearm' 200 3.3 'Low' 2 36 12 10 24 8 6 9 3]\n",
      " ['Frenzy' 'Sidearm' 400 10.0 'Low' 13 78 26 22 63 21 17 63 21]\n",
      " ['Ghost' 'Sidearm' 500 6.75 'Medium' 15 105 33 26 88 25 21 88 25]\n",
      " ['Sheriff' 'Sidearm' 800 4.0 'High' 6 160 55 47 160 55 47 145 50]\n",
      " ['Stinger' 'SMG' 1000 18.0 'Low' 20 67 27 23 62 25 21 62 25]\n",
      " ['Spectre' 'SMG' 1600 13.33 'Medium' 30 78 26 22 66 22 18 66 22]\n",
      " ['Bulldog' 'Rifle' 2100 9.15 'Medium' 24 116 35 30 116 35 30 116 35]\n",
      " ['Guardian' 'Rifle' 2500 6.5 'Medium' 12 195 65 49 195 65 49 195 65]\n",
      " ['Phantom' 'Rifle' 2900 11.0 'Medium' 30 156 39 33 140 35 30 124 31]\n",
      " ['Vandal' 'Rifle' 2900 9.25 'Medium' 25 156 39 33 156 39 33 156 39]\n",
      " ['Marshall' 'Sniper' 1100 1.5 'Medium' 5 202 101 85 202 101 85 202 101]\n",
      " ['Operator' 'Sniper' 4500 0.75 'High' 5 255 150 127 255 150 127 255 150]\n",
      " ['Bucky' 'Shotgun' 900 1.1 'Low' 5 55 22 19 34 17 14 18 9]\n",
      " ['Judge' 'Shotgun' 1500 3.5 'Medium' 7 34 17 14 26 13 11 20 10]\n",
      " ['Ares' 'Heavy' 1600 10.0 'High' 50 72 30 25 72 30 25 67 28]\n",
      " ['Odin' 'Heavy' 3200 12.0 'High' 100 95 38 32 95 38 32 77 31]]\n"
     ]
    }
   ],
   "source": [
    "print(x)"
   ]
  },
  {
   "cell_type": "code",
   "execution_count": 4,
   "id": "c3e7d0e1",
   "metadata": {},
   "outputs": [
    {
     "name": "stdout",
     "output_type": "stream",
     "text": [
      "[ 18   2  17  21  43  21  18  30  49  26  33  85 127   8   9  23  26]\n"
     ]
    }
   ],
   "source": [
    "print(y)"
   ]
  }
 ],
 "metadata": {
  "kernelspec": {
   "display_name": "Python 3 (ipykernel)",
   "language": "python",
   "name": "python3"
  },
  "language_info": {
   "codemirror_mode": {
    "name": "ipython",
    "version": 3
   },
   "file_extension": ".py",
   "mimetype": "text/x-python",
   "name": "python",
   "nbconvert_exporter": "python",
   "pygments_lexer": "ipython3",
   "version": "3.9.7"
  }
 },
 "nbformat": 4,
 "nbformat_minor": 5
}
